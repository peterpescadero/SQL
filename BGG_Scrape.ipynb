{
 "cells": [
  {
   "cell_type": "code",
   "execution_count": 1,
   "id": "46a42d50-8ee8-4df4-b679-7b4ad3023585",
   "metadata": {},
   "outputs": [],
   "source": [
    "def getTitle(soup,Rank=1):            \n",
    "    titleDiv = soup.find(id = 'results_objectname'+str(Rank))\n",
    "    titleText = titleDiv.find('a').text    \n",
    "    return titleText\n",
    "    \n",
    "    \n"
   ]
  },
  {
   "cell_type": "code",
   "execution_count": 2,
   "id": "dd182393-1ab0-4c7d-a7c2-fa3136903f8b",
   "metadata": {
    "tags": []
   },
   "outputs": [],
   "source": [
    "def getImageURL(soup,rank=1):\n",
    "    BGGID=getBGGID(soup,rank)\n",
    "    request_url = 'https://boardgamegeek.com/xmlapi2/thing?id='+BGGID\n",
    "    response = requests.get(request_url)\n",
    "    image_url=\"\"\n",
    "    if response.status_code == 200:\n",
    "        root = ET.fromstring(response.content)\n",
    "        image_url = root.find('.//image').text\n",
    "    else:\n",
    "        print(\"Failed to retrieve data from the API\")    \n",
    "    imgDiv=\"blank\"\n",
    "    imgDiv = soup.find_all(class_ = 'collection_thumbnail')[rank]\n",
    "    return image_url\n",
    "\n",
    "    "
   ]
  },
  {
   "cell_type": "code",
   "execution_count": 3,
   "id": "c9e5607b-47e7-4286-8c1a-2f0e7d40d305",
   "metadata": {},
   "outputs": [],
   "source": [
    "def getBGGID(soup,rank=1):\n",
    "    idDiv = soup.find_all(class_ = 'collection_thumbnail')[rank].find('a')['href']\n",
    "    BGGID = idDiv.split('/')[2]\n",
    "    return BGGID\n",
    "    "
   ]
  },
  {
   "cell_type": "code",
   "execution_count": 4,
   "id": "dbc4378c-73d2-4cb6-ae9f-d0ee71f42929",
   "metadata": {
    "tags": []
   },
   "outputs": [],
   "source": [
    "def Main(interval=1,numResults=1):\n",
    "    global results_df \n",
    "    interval = float(input(\"Enter the interval (between 0 and 1): \"))\n",
    "    if interval <= 0 or interval > 1:\n",
    "        interval = float(input(\"Enter the interval (between 0 and 1): \"))\n",
    "\n",
    "    numResults = int(input(\"Enter the number of results(max 10): \"))\n",
    "    if numResults >10:\n",
    "        numResults = int(input(\"Enter the number of results(max 10): \"))   \n",
    "\n",
    "    weight=1.0\n",
    "    \n",
    "    while weight <=5:\n",
    "        print(\"finding games for weight \"+str(weight)+\" ...\")\n",
    "        soup=getSoup(weight)\n",
    "        for i in range(numResults):\n",
    "            title = getTitle(soup,i+1)\n",
    "            image_url=getImageURL(soup,i+1)\n",
    "            results_df = pd.concat([results_df, pd.DataFrame({\"Game Title\": [title],\"Weight\":[weight], \"Image URL\": [image_url]})], ignore_index=True)\n",
    "        weight +=interval\n",
    "             \n",
    "\n",
    "\n"
   ]
  },
  {
   "cell_type": "code",
   "execution_count": 5,
   "id": "c5b25e17-bfd5-43d3-bc35-11829e36e2f5",
   "metadata": {},
   "outputs": [],
   "source": [
    "def getURL(weight):\n",
    "    weightString = str(weight)\n",
    "    url = 'https://boardgamegeek.com/search/boardgame?sort=bggrating&sortdir=desc&advsearch=1&floatrange%5Bavgweight%5D%5Bmin%5D='+weightString+'&nosubtypes%5B%5D=boardgameexpansion&floatrange%5Bavgweight%5D%5Bmax%5D='+weightString+'&colfiltertype=&playerrangetype=normal&B1=Submit'\n",
    "    return url\n",
    "    "
   ]
  },
  {
   "cell_type": "code",
   "execution_count": 6,
   "id": "d2e7dab0-8fd7-4fe2-b0d8-a6d9ee81224b",
   "metadata": {},
   "outputs": [],
   "source": [
    "def getSoup(weight):\n",
    "    url=getURL(weight)\n",
    "    page = requests.get(url)\n",
    "    soup = BeautifulSoup(page.text, 'html')\n",
    "    return soup"
   ]
  },
  {
   "cell_type": "code",
   "execution_count": 7,
   "id": "a6c02fd2-c69e-42f0-ac3e-41f81e57722f",
   "metadata": {},
   "outputs": [
    {
     "name": "stdout",
     "output_type": "stream",
     "text": [
      "finding games for weight 1.0 ...\n"
     ]
    },
    {
     "name": "stderr",
     "output_type": "stream",
     "text": [
      "C:\\Users\\lock4\\AppData\\Local\\Temp\\ipykernel_3428\\64735567.py:19: FutureWarning: The behavior of DataFrame concatenation with empty or all-NA entries is deprecated. In a future version, this will no longer exclude empty or all-NA columns when determining the result dtypes. To retain the old behavior, exclude the relevant entries before the concat operation.\n",
      "  results_df = pd.concat([results_df, pd.DataFrame({\"Game Title\": [title],\"Weight\":[weight], \"Image URL\": [image_url]})], ignore_index=True)\n"
     ]
    },
    {
     "name": "stdout",
     "output_type": "stream",
     "text": [
      "finding games for weight 1.25 ...\n",
      "finding games for weight 1.5 ...\n",
      "finding games for weight 1.75 ...\n",
      "finding games for weight 2.0 ...\n",
      "finding games for weight 2.25 ...\n",
      "finding games for weight 2.5 ...\n",
      "finding games for weight 2.75 ...\n",
      "finding games for weight 3.0 ...\n",
      "finding games for weight 3.25 ...\n",
      "finding games for weight 3.5 ...\n",
      "finding games for weight 3.75 ...\n",
      "finding games for weight 4.0 ...\n",
      "finding games for weight 4.25 ...\n",
      "finding games for weight 4.5 ...\n",
      "finding games for weight 4.75 ...\n",
      "finding games for weight 5.0 ...\n"
     ]
    },
    {
     "data": {
      "text/html": [
       "<div style='font-size: 32px; color: white; -webkit-text-stroke: 1px black;'>Weight = 1.0</div>"
      ],
      "text/plain": [
       "<IPython.core.display.HTML object>"
      ]
     },
     "metadata": {},
     "output_type": "display_data"
    },
    {
     "data": {
      "text/html": [
       "<table border=\"1\" class=\"dataframe\">\n",
       "  <thead>\n",
       "    <tr style=\"text-align: right;\">\n",
       "      <th></th>\n",
       "      <th></th>\n",
       "      <th></th>\n",
       "      <th></th>\n",
       "    </tr>\n",
       "  </thead>\n",
       "  <tbody>\n",
       "    <tr>\n",
       "      <th>0</th>\n",
       "      <td>HITSTER<br><img src='https://cf.geekdo-images.com/R4aQbIo0KZ6npxfhUc7ZYw__original/img/UnRcbzoTOs0enH35NSxGb4mqQ-k=/0x0/filters:format(png)/pic6958739.png' height='100px'></td>\n",
       "      <td>Telestrations After Dark<br><img src='https://cf.geekdo-images.com/lxSrSu2-x2PcDwi78SACjA__original/img/eCKJZh3dTN8MdEYAN6hy_LMyxR0=/0x0/filters:format(jpeg)/pic2564213.jpg' height='100px'></td>\n",
       "      <td>Catch the Moon<br><img src='https://cf.geekdo-images.com/aP1eb0AC--mJ2tGrzdbf6w__original/img/ZFXklIfTL9aYL1e5CK_6rmM5VM4=/0x0/filters:format(jpeg)/pic6630227.jpg' height='100px'></td>\n",
       "    </tr>\n",
       "  </tbody>\n",
       "</table>"
      ],
      "text/plain": [
       "<IPython.core.display.HTML object>"
      ]
     },
     "metadata": {},
     "output_type": "display_data"
    },
    {
     "data": {
      "text/html": [
       "<div style='font-size: 32px; color: white; -webkit-text-stroke: 1px black;'>Weight = 1.25</div>"
      ],
      "text/plain": [
       "<IPython.core.display.HTML object>"
      ]
     },
     "metadata": {},
     "output_type": "display_data"
    },
    {
     "data": {
      "text/html": [
       "<table border=\"1\" class=\"dataframe\">\n",
       "  <thead>\n",
       "    <tr style=\"text-align: right;\">\n",
       "      <th></th>\n",
       "      <th></th>\n",
       "      <th></th>\n",
       "      <th></th>\n",
       "    </tr>\n",
       "  </thead>\n",
       "  <tbody>\n",
       "    <tr>\n",
       "      <th>0</th>\n",
       "      <td>Memoarrr!<br><img src='https://cf.geekdo-images.com/yyMIexhj5GczPnnqYfHHnQ__original/img/o9jD4jHNA8xNHsVjcMOVMxFHV1o=/0x0/filters:format(jpeg)/pic4007207.jpg' height='100px'></td>\n",
       "      <td>The Game: Face to Face<br><img src='https://cf.geekdo-images.com/bn4PzmubJyyZmo-sHO6i8Q__original/img/rWTynOnpmyXWsIQGxtBgbXY0pC8=/0x0/filters:format(png)/pic5980577.png' height='100px'></td>\n",
       "      <td>World Championship Russian Roulette<br><img src='https://cf.geekdo-images.com/5zvqwlo3ZQVlOuqh7rHLGQ__original/img/4AMJVKvRBTnwGcfcRxuyaKg76jk=/0x0/filters:format(jpeg)/pic3041023.jpg' height='100px'></td>\n",
       "    </tr>\n",
       "  </tbody>\n",
       "</table>"
      ],
      "text/plain": [
       "<IPython.core.display.HTML object>"
      ]
     },
     "metadata": {},
     "output_type": "display_data"
    },
    {
     "data": {
      "text/html": [
       "<div style='font-size: 32px; color: white; -webkit-text-stroke: 1px black;'>Weight = 1.5</div>"
      ],
      "text/plain": [
       "<IPython.core.display.HTML object>"
      ]
     },
     "metadata": {},
     "output_type": "display_data"
    },
    {
     "data": {
      "text/html": [
       "<table border=\"1\" class=\"dataframe\">\n",
       "  <thead>\n",
       "    <tr style=\"text-align: right;\">\n",
       "      <th></th>\n",
       "      <th></th>\n",
       "      <th></th>\n",
       "      <th></th>\n",
       "    </tr>\n",
       "  </thead>\n",
       "  <tbody>\n",
       "    <tr>\n",
       "      <th>0</th>\n",
       "      <td>Witness<br><img src='https://cf.geekdo-images.com/E-432DX7M9-UJpFO88uJ6w__original/img/1EbX-Sm44IJZ1XUXqVOs4mjndpo=/0x0/filters:format(jpeg)/pic2336025.jpg' height='100px'></td>\n",
       "      <td>Bites<br><img src='https://cf.geekdo-images.com/7In8DxbrxKe0ryqUKML3Iw__original/img/HfRUVzizmB6-ayJZOQVxjL_xGtw=/0x0/filters:format(jpeg)/pic4700453.jpg' height='100px'></td>\n",
       "      <td>Seikatsu<br><img src='https://cf.geekdo-images.com/fw3N-Y8tINMF1pAfACDN_g__original/img/yYxg_mkU1Anm-MoDb_TzBbCAXBw=/0x0/filters:format(jpeg)/pic3918997.jpg' height='100px'></td>\n",
       "    </tr>\n",
       "  </tbody>\n",
       "</table>"
      ],
      "text/plain": [
       "<IPython.core.display.HTML object>"
      ]
     },
     "metadata": {},
     "output_type": "display_data"
    },
    {
     "data": {
      "text/html": [
       "<div style='font-size: 32px; color: white; -webkit-text-stroke: 1px black;'>Weight = 1.75</div>"
      ],
      "text/plain": [
       "<IPython.core.display.HTML object>"
      ]
     },
     "metadata": {},
     "output_type": "display_data"
    },
    {
     "data": {
      "text/html": [
       "<table border=\"1\" class=\"dataframe\">\n",
       "  <thead>\n",
       "    <tr style=\"text-align: right;\">\n",
       "      <th></th>\n",
       "      <th></th>\n",
       "      <th></th>\n",
       "      <th></th>\n",
       "    </tr>\n",
       "  </thead>\n",
       "  <tbody>\n",
       "    <tr>\n",
       "      <th>0</th>\n",
       "      <td>Palm Island<br><img src='https://cf.geekdo-images.com/CPJhhXGPCPIIpsTh-p3UQQ__original/img/o0OXnGNtsBkYd4lupJxcZPpNJgU=/0x0/filters:format(png)/pic3995767.png' height='100px'></td>\n",
       "      <td>Azul: Master Chocolatier<br><img src='https://cf.geekdo-images.com/CHIy1KMWI-LCkiux4q81Fg__original/img/cWe3u0UaHUWOWmFRGFAQYlFuYW4=/0x0/filters:format(png)/pic6871709.png' height='100px'></td>\n",
       "      <td>Harry Potter: Hogwarts Battle – Defence Against the Dark Arts<br><img src='https://cf.geekdo-images.com/it99zJd4oVWxwvgnmwub-g__original/img/IbZUjDhN2L6MFuq52bJs0m6YRAI=/0x0/filters:format(jpeg)/pic4576575.jpg' height='100px'></td>\n",
       "    </tr>\n",
       "  </tbody>\n",
       "</table>"
      ],
      "text/plain": [
       "<IPython.core.display.HTML object>"
      ]
     },
     "metadata": {},
     "output_type": "display_data"
    },
    {
     "data": {
      "text/html": [
       "<div style='font-size: 32px; color: white; -webkit-text-stroke: 1px black;'>Weight = 2.0</div>"
      ],
      "text/plain": [
       "<IPython.core.display.HTML object>"
      ]
     },
     "metadata": {},
     "output_type": "display_data"
    },
    {
     "data": {
      "text/html": [
       "<table border=\"1\" class=\"dataframe\">\n",
       "  <thead>\n",
       "    <tr style=\"text-align: right;\">\n",
       "      <th></th>\n",
       "      <th></th>\n",
       "      <th></th>\n",
       "      <th></th>\n",
       "    </tr>\n",
       "  </thead>\n",
       "  <tbody>\n",
       "    <tr>\n",
       "      <th>0</th>\n",
       "      <td>Azul: Stained Glass of Sintra<br><img src='https://cf.geekdo-images.com/RrYR1xB8H7D1B5GwNV8jgQ__original/img/unI8OEWp9Fdv3D_dLahPPdLG1qc=/0x0/filters:format(jpeg)/pic4212417.jpg' height='100px'></td>\n",
       "      <td>Marvel United: X-Men<br><img src='https://cf.geekdo-images.com/McQXSQjyTtrqpGA77GSRxg__original/img/Z6Bl-Nc4XfMk3Su5-Qa3C3fBbFw=/0x0/filters:format(jpeg)/pic6245965.jpg' height='100px'></td>\n",
       "      <td>Kanagawa<br><img src='https://cf.geekdo-images.com/Rr2JrRztCFzzikJ9YL5-Dw__original/img/-v_1QOvedVYSmOkWsmQuROJCHI0=/0x0/filters:format(jpeg)/pic3105168.jpg' height='100px'></td>\n",
       "    </tr>\n",
       "  </tbody>\n",
       "</table>"
      ],
      "text/plain": [
       "<IPython.core.display.HTML object>"
      ]
     },
     "metadata": {},
     "output_type": "display_data"
    },
    {
     "data": {
      "text/html": [
       "<div style='font-size: 32px; color: white; -webkit-text-stroke: 1px black;'>Weight = 2.25</div>"
      ],
      "text/plain": [
       "<IPython.core.display.HTML object>"
      ]
     },
     "metadata": {},
     "output_type": "display_data"
    },
    {
     "data": {
      "text/html": [
       "<table border=\"1\" class=\"dataframe\">\n",
       "  <thead>\n",
       "    <tr style=\"text-align: right;\">\n",
       "      <th></th>\n",
       "      <th></th>\n",
       "      <th></th>\n",
       "      <th></th>\n",
       "    </tr>\n",
       "  </thead>\n",
       "  <tbody>\n",
       "    <tr>\n",
       "      <th>0</th>\n",
       "      <td>Ishtar: Gardens of Babylon<br><img src='https://cf.geekdo-images.com/xXXGSdY52lm_CjMibn0aWQ__original/img/Wugkl4LbYYpP8IrCQ6vIlOVWyxQ=/0x0/filters:format(jpeg)/pic4775121.jpg' height='100px'></td>\n",
       "      <td>Ganymede<br><img src='https://cf.geekdo-images.com/Uz1oTAA1XfxTaZ7FA-3DyQ__original/img/cXvWdR6ppyGk0ZcJ3_Ph4uzHbcY=/0x0/filters:format(jpeg)/pic4044081.jpg' height='100px'></td>\n",
       "      <td>The Grand Carnival<br><img src='https://cf.geekdo-images.com/szzbOmYQR9tCZtZKzbzRRw__original/img/1qE5NW9Dbat-aIiziqPF9MM6vpE=/0x0/filters:format(png)/pic4950808.png' height='100px'></td>\n",
       "    </tr>\n",
       "  </tbody>\n",
       "</table>"
      ],
      "text/plain": [
       "<IPython.core.display.HTML object>"
      ]
     },
     "metadata": {},
     "output_type": "display_data"
    },
    {
     "data": {
      "text/html": [
       "<div style='font-size: 32px; color: white; -webkit-text-stroke: 1px black;'>Weight = 2.5</div>"
      ],
      "text/plain": [
       "<IPython.core.display.HTML object>"
      ]
     },
     "metadata": {},
     "output_type": "display_data"
    },
    {
     "data": {
      "text/html": [
       "<table border=\"1\" class=\"dataframe\">\n",
       "  <thead>\n",
       "    <tr style=\"text-align: right;\">\n",
       "      <th></th>\n",
       "      <th></th>\n",
       "      <th></th>\n",
       "      <th></th>\n",
       "    </tr>\n",
       "  </thead>\n",
       "  <tbody>\n",
       "    <tr>\n",
       "      <th>0</th>\n",
       "      <td>Space Hulk<br><img src='https://cf.geekdo-images.com/XgVrr2ImtAlnQylHdrzlQg__original/img/zU6CTU_mCv4WsEdXslBks8opfb4=/0x0/filters:format(jpeg)/pic1411446.jpg' height='100px'></td>\n",
       "      <td>Le Havre: The Inland Port<br><img src='https://cf.geekdo-images.com/T3b2GrRaMhGCxLIIxOEGhg__original/img/-VeZeBMc3VxUM8aDRuqw-ZN7Kn4=/0x0/filters:format(jpeg)/pic1451680.jpg' height='100px'></td>\n",
       "      <td>Factory Fun<br><img src='https://cf.geekdo-images.com/Q6Yl85arrnIhR2Icux1t-Q__original/img/zlEIlkDvomZxUvyyx_4ZZXBPgpY=/0x0/filters:format(jpeg)/pic802170.jpg' height='100px'></td>\n",
       "    </tr>\n",
       "  </tbody>\n",
       "</table>"
      ],
      "text/plain": [
       "<IPython.core.display.HTML object>"
      ]
     },
     "metadata": {},
     "output_type": "display_data"
    },
    {
     "data": {
      "text/html": [
       "<div style='font-size: 32px; color: white; -webkit-text-stroke: 1px black;'>Weight = 2.75</div>"
      ],
      "text/plain": [
       "<IPython.core.display.HTML object>"
      ]
     },
     "metadata": {},
     "output_type": "display_data"
    },
    {
     "data": {
      "text/html": [
       "<table border=\"1\" class=\"dataframe\">\n",
       "  <thead>\n",
       "    <tr style=\"text-align: right;\">\n",
       "      <th></th>\n",
       "      <th></th>\n",
       "      <th></th>\n",
       "      <th></th>\n",
       "    </tr>\n",
       "  </thead>\n",
       "  <tbody>\n",
       "    <tr>\n",
       "      <th>0</th>\n",
       "      <td>Detective: A Modern Crime Board Game<br><img src='https://cf.geekdo-images.com/wJphcoCCYScWCNkE32D_hw__original/img/qSYnPWdXgggfxYvT03Oa32zSrh0=/0x0/filters:format(jpeg)/pic5756205.jpg' height='100px'></td>\n",
       "      <td>Smartphone Inc.<br><img src='https://cf.geekdo-images.com/Ndctxvd7kBXYubeYRKRqzw__original/img/gGL8Fh-pFgTqB3lF-47ClLYLu8s=/0x0/filters:format(jpeg)/pic4258616.jpg' height='100px'></td>\n",
       "      <td>Fireteam Zero<br><img src='https://cf.geekdo-images.com/KOK7-itTW9ZiYRiGz2MoNg__original/img/2twZdZJnWz0QVhmfs2BorZBqxrg=/0x0/filters:format(jpeg)/pic2208055.jpg' height='100px'></td>\n",
       "    </tr>\n",
       "  </tbody>\n",
       "</table>"
      ],
      "text/plain": [
       "<IPython.core.display.HTML object>"
      ]
     },
     "metadata": {},
     "output_type": "display_data"
    },
    {
     "data": {
      "text/html": [
       "<div style='font-size: 32px; color: white; -webkit-text-stroke: 1px black;'>Weight = 3.0</div>"
      ],
      "text/plain": [
       "<IPython.core.display.HTML object>"
      ]
     },
     "metadata": {},
     "output_type": "display_data"
    },
    {
     "data": {
      "text/html": [
       "<table border=\"1\" class=\"dataframe\">\n",
       "  <thead>\n",
       "    <tr style=\"text-align: right;\">\n",
       "      <th></th>\n",
       "      <th></th>\n",
       "      <th></th>\n",
       "      <th></th>\n",
       "    </tr>\n",
       "  </thead>\n",
       "  <tbody>\n",
       "    <tr>\n",
       "      <th>0</th>\n",
       "      <td>Everdell: The Complete Collection<br><img src='https://cf.geekdo-images.com/AkYQwEPr0fq_summgnx4wA__original/img/7KI0eciK8zImSiBn1N_9MF4Ws_o=/0x0/filters:format(png)/pic6010050.png' height='100px'></td>\n",
       "      <td>Whistle Mountain<br><img src='https://cf.geekdo-images.com/BkPVVNEJxnF2ouque0ov8A__original/img/KBbDQ_YZG_JF_rkniAKYupJLYnI=/0x0/filters:format(jpeg)/pic5275651.jpg' height='100px'></td>\n",
       "      <td>Merchant of Venus (Second Edition)<br><img src='https://cf.geekdo-images.com/2aHxs1ljNAD2Q2e8q6vW2w__original/img/Rf75ATYGTpO-54sPSj4X3XhLI70=/0x0/filters:format(jpeg)/pic1134632.jpg' height='100px'></td>\n",
       "    </tr>\n",
       "  </tbody>\n",
       "</table>"
      ],
      "text/plain": [
       "<IPython.core.display.HTML object>"
      ]
     },
     "metadata": {},
     "output_type": "display_data"
    },
    {
     "data": {
      "text/html": [
       "<div style='font-size: 32px; color: white; -webkit-text-stroke: 1px black;'>Weight = 3.25</div>"
      ],
      "text/plain": [
       "<IPython.core.display.HTML object>"
      ]
     },
     "metadata": {},
     "output_type": "display_data"
    },
    {
     "data": {
      "text/html": [
       "<table border=\"1\" class=\"dataframe\">\n",
       "  <thead>\n",
       "    <tr style=\"text-align: right;\">\n",
       "      <th></th>\n",
       "      <th></th>\n",
       "      <th></th>\n",
       "      <th></th>\n",
       "    </tr>\n",
       "  </thead>\n",
       "  <tbody>\n",
       "    <tr>\n",
       "      <th>0</th>\n",
       "      <td>HEXplore It: The Valley of the Dead King<br><img src='https://cf.geekdo-images.com/5WAMW5jbwKD7F4v5pLmjNw__original/img/XJs8kB8Zz3jT_XaO2OnIfg74Egs=/0x0/filters:format(jpeg)/pic5918593.jpg' height='100px'></td>\n",
       "      <td>The King's Abbey<br><img src='https://cf.geekdo-images.com/6ZZ93C5kmjxeQ_79yQKkMA__original/img/gJeX6FmcBGa5-2BiuMCoPkGckPg=/0x0/filters:format(png)/pic2521752.png' height='100px'></td>\n",
       "      <td>Archmage<br><img src='https://cf.geekdo-images.com/UCEROEH7sFwvrjTwU16c7g__original/img/l0ZEXkZz9COm83PtS1Woq1_bmfo=/0x0/filters:format(jpeg)/pic3537131.jpg' height='100px'></td>\n",
       "    </tr>\n",
       "  </tbody>\n",
       "</table>"
      ],
      "text/plain": [
       "<IPython.core.display.HTML object>"
      ]
     },
     "metadata": {},
     "output_type": "display_data"
    },
    {
     "data": {
      "text/html": [
       "<div style='font-size: 32px; color: white; -webkit-text-stroke: 1px black;'>Weight = 3.5</div>"
      ],
      "text/plain": [
       "<IPython.core.display.HTML object>"
      ]
     },
     "metadata": {},
     "output_type": "display_data"
    },
    {
     "data": {
      "text/html": [
       "<table border=\"1\" class=\"dataframe\">\n",
       "  <thead>\n",
       "    <tr style=\"text-align: right;\">\n",
       "      <th></th>\n",
       "      <th></th>\n",
       "      <th></th>\n",
       "      <th></th>\n",
       "    </tr>\n",
       "  </thead>\n",
       "  <tbody>\n",
       "    <tr>\n",
       "      <th>0</th>\n",
       "      <td>Etherfields<br><img src='https://cf.geekdo-images.com/K1yVmbbWCsQuiWk-7x-V-Q__original/img/4l1YMMVL91dNV8KU9cAGADUBY68=/0x0/filters:format(png)/pic7455627.png' height='100px'></td>\n",
       "      <td>Euthia: Torment of Resurrection<br><img src='https://cf.geekdo-images.com/huIYP0zhMkZvajsDnw5Neg__original/img/TPyMSUr3QKnW9jjn9SBjdAfvg8o=/0x0/filters:format(jpeg)/pic5103749.jpg' height='100px'></td>\n",
       "      <td>Amsterdam<br><img src='https://cf.geekdo-images.com/BD9dnn5PW2pQz4xKVMpvMQ__original/img/7dWbVEYM_w_-7YyNF7W_hLKj1IQ=/0x0/filters:format(jpeg)/pic5536136.jpg' height='100px'></td>\n",
       "    </tr>\n",
       "  </tbody>\n",
       "</table>"
      ],
      "text/plain": [
       "<IPython.core.display.HTML object>"
      ]
     },
     "metadata": {},
     "output_type": "display_data"
    },
    {
     "data": {
      "text/html": [
       "<div style='font-size: 32px; color: white; -webkit-text-stroke: 1px black;'>Weight = 3.75</div>"
      ],
      "text/plain": [
       "<IPython.core.display.HTML object>"
      ]
     },
     "metadata": {},
     "output_type": "display_data"
    },
    {
     "data": {
      "text/html": [
       "<table border=\"1\" class=\"dataframe\">\n",
       "  <thead>\n",
       "    <tr style=\"text-align: right;\">\n",
       "      <th></th>\n",
       "      <th></th>\n",
       "      <th></th>\n",
       "      <th></th>\n",
       "    </tr>\n",
       "  </thead>\n",
       "  <tbody>\n",
       "    <tr>\n",
       "      <th>0</th>\n",
       "      <td>Unconditional Surrender! World War 2 in Europe<br><img src='https://cf.geekdo-images.com/EvBmz3huzH_iiwT9r3mX6g__original/img/2cNlFC_s_Gc2Yn5aRZruksW7gzI=/0x0/filters:format(jpeg)/pic1927033.jpg' height='100px'></td>\n",
       "      <td>Warhammer 40,000 (Fifth Edition)<br><img src='https://cf.geekdo-images.com/WvXqowsucdzB3EUloOCF-Q__original/img/yJryKzFs32OHSyA2dgFqCIrJqDo=/0x0/filters:format(jpeg)/pic348981.jpg' height='100px'></td>\n",
       "      <td>Apocrypha Adventure Card Game: Box One – The World<br><img src='https://cf.geekdo-images.com/GuzdVT3LN5yNEUWYiMr2FQ__original/img/NJJS8pOxBOkNS7jnyijZlDYPYlQ=/0x0/filters:format(jpeg)/pic3366195.jpg' height='100px'></td>\n",
       "    </tr>\n",
       "  </tbody>\n",
       "</table>"
      ],
      "text/plain": [
       "<IPython.core.display.HTML object>"
      ]
     },
     "metadata": {},
     "output_type": "display_data"
    },
    {
     "data": {
      "text/html": [
       "<div style='font-size: 32px; color: white; -webkit-text-stroke: 1px black;'>Weight = 4.0</div>"
      ],
      "text/plain": [
       "<IPython.core.display.HTML object>"
      ]
     },
     "metadata": {},
     "output_type": "display_data"
    },
    {
     "data": {
      "text/html": [
       "<table border=\"1\" class=\"dataframe\">\n",
       "  <thead>\n",
       "    <tr style=\"text-align: right;\">\n",
       "      <th></th>\n",
       "      <th></th>\n",
       "      <th></th>\n",
       "      <th></th>\n",
       "    </tr>\n",
       "  </thead>\n",
       "  <tbody>\n",
       "    <tr>\n",
       "      <th>0</th>\n",
       "      <td>Clinic: Deluxe Edition<br><img src='https://cf.geekdo-images.com/iSPW4FWKZPiscVBbVgzJ0Q__original/img/Mlf3zgxNSckq276250BUObext8M=/0x0/filters:format(jpeg)/pic6625134.jpg' height='100px'></td>\n",
       "      <td>Great Western Trail: New Zealand<br><img src='https://cf.geekdo-images.com/X4KaD6ADLW1ohOznNay7xg__original/img/HhxsLMIsz6Te567qXEbRBen4Sm8=/0x0/filters:format(png)/pic7350809.png' height='100px'></td>\n",
       "      <td>Successors (Fourth Edition)<br><img src='https://cf.geekdo-images.com/YlDLNXpqv1AKGE_TZsNPDg__original/img/Mcw4pO1nedshcfVjCmRUP4YJjzE=/0x0/filters:format(jpeg)/pic4919647.jpg' height='100px'></td>\n",
       "    </tr>\n",
       "  </tbody>\n",
       "</table>"
      ],
      "text/plain": [
       "<IPython.core.display.HTML object>"
      ]
     },
     "metadata": {},
     "output_type": "display_data"
    },
    {
     "data": {
      "text/html": [
       "<div style='font-size: 32px; color: white; -webkit-text-stroke: 1px black;'>Weight = 4.25</div>"
      ],
      "text/plain": [
       "<IPython.core.display.HTML object>"
      ]
     },
     "metadata": {},
     "output_type": "display_data"
    },
    {
     "data": {
      "text/html": [
       "<table border=\"1\" class=\"dataframe\">\n",
       "  <thead>\n",
       "    <tr style=\"text-align: right;\">\n",
       "      <th></th>\n",
       "      <th></th>\n",
       "      <th></th>\n",
       "      <th></th>\n",
       "    </tr>\n",
       "  </thead>\n",
       "  <tbody>\n",
       "    <tr>\n",
       "      <th>0</th>\n",
       "      <td>18CZ<br><img src='https://cf.geekdo-images.com/gTqu_0IVZdOahTOG7BzBDw__original/img/AhogMB0sOV354J0qOZ6-2yk-gio=/0x0/filters:format(jpeg)/pic3696524.jpg' height='100px'></td>\n",
       "      <td>Korea: The Forgotten War<br><img src='https://cf.geekdo-images.com/tZ7OxSUYsZFlnxo1Q8mWPQ__original/img/fO0dBvAAVyvXwvFO6wnCXz_sdKQ=/0x0/filters:format(png)/pic2281042.png' height='100px'></td>\n",
       "      <td>Middle-earth Strategy Battle Game: The Lord of the Rings – Battle of Pelennor Fields<br><img src='https://cf.geekdo-images.com/AvJMzB_N2RpVqX1Dgn31xw__original/img/dToIt8EPauLe3FPXCjf-PUECDoM=/0x0/filters:format(jpeg)/pic4315176.jpg' height='100px'></td>\n",
       "    </tr>\n",
       "  </tbody>\n",
       "</table>"
      ],
      "text/plain": [
       "<IPython.core.display.HTML object>"
      ]
     },
     "metadata": {},
     "output_type": "display_data"
    },
    {
     "data": {
      "text/html": [
       "<div style='font-size: 32px; color: white; -webkit-text-stroke: 1px black;'>Weight = 4.5</div>"
      ],
      "text/plain": [
       "<IPython.core.display.HTML object>"
      ]
     },
     "metadata": {},
     "output_type": "display_data"
    },
    {
     "data": {
      "text/html": [
       "<table border=\"1\" class=\"dataframe\">\n",
       "  <thead>\n",
       "    <tr style=\"text-align: right;\">\n",
       "      <th></th>\n",
       "      <th></th>\n",
       "      <th></th>\n",
       "      <th></th>\n",
       "    </tr>\n",
       "  </thead>\n",
       "  <tbody>\n",
       "    <tr>\n",
       "      <th>0</th>\n",
       "      <td>Birds of Prey: Air Combat in the Jet Age<br><img src='https://cf.geekdo-images.com/PwtGjwYkkMCzBYESI5PVGQ__original/img/QFay_-hxSgDrKpP_DAI-3F8DdS0=/0x0/filters:format(jpeg)/pic301949.jpg' height='100px'></td>\n",
       "      <td>Hurtgen: Hell's Forest<br><img src='https://cf.geekdo-images.com/TLcr_hsJU_rHQaG4lKKioQ__original/img/d0qcz9rt9L3ZQPwIqKFScnHb4M8=/0x0/filters:format(jpeg)/pic1294381.jpg' height='100px'></td>\n",
       "      <td>Mistfall: Kickstarter Edition<br><img src='https://cf.geekdo-images.com/bV7hJ7iiL0YpRRQ5nUbVqg__original/img/YxToTGe6kIqZpl7rvNpS0snmu-o=/0x0/filters:format(png)/pic2410035.png' height='100px'></td>\n",
       "    </tr>\n",
       "  </tbody>\n",
       "</table>"
      ],
      "text/plain": [
       "<IPython.core.display.HTML object>"
      ]
     },
     "metadata": {},
     "output_type": "display_data"
    },
    {
     "data": {
      "text/html": [
       "<div style='font-size: 32px; color: white; -webkit-text-stroke: 1px black;'>Weight = 4.75</div>"
      ],
      "text/plain": [
       "<IPython.core.display.HTML object>"
      ]
     },
     "metadata": {},
     "output_type": "display_data"
    },
    {
     "data": {
      "text/html": [
       "<table border=\"1\" class=\"dataframe\">\n",
       "  <thead>\n",
       "    <tr style=\"text-align: right;\">\n",
       "      <th></th>\n",
       "      <th></th>\n",
       "      <th></th>\n",
       "      <th></th>\n",
       "    </tr>\n",
       "  </thead>\n",
       "  <tbody>\n",
       "    <tr>\n",
       "      <th>0</th>\n",
       "      <td>La Grande Guerre 14-18<br><img src='https://cf.geekdo-images.com/rKL-dNx_ghtZPkz3jcN_lg__original/img/ZOlqrkpWI2QO1V4tiwIKsF_0GQA=/0x0/filters:format(jpeg)/pic133895.jpg' height='100px'></td>\n",
       "      <td>Warrior: Miniature Wargame Rules for Ancient and Medieval Warfare 3000BC to 1485AD<br><img src='https://cf.geekdo-images.com/JhGQeVJrJg8drYrASSydxQ__original/img/rWsQnD3gb0z8x9YvdxzTKVHfnT4=/0x0/filters:format(jpeg)/pic137580.jpg' height='100px'></td>\n",
       "      <td>Interstellar<br><img src='https://cf.geekdo-images.com/p2zzC8ZdzwtQVIGXdpK8QQ__original/img/yTmbrDpgzMgB4dzTfeVoVOuOjhc=/0x0/filters:format(png)/pic6380476.png' height='100px'></td>\n",
       "    </tr>\n",
       "  </tbody>\n",
       "</table>"
      ],
      "text/plain": [
       "<IPython.core.display.HTML object>"
      ]
     },
     "metadata": {},
     "output_type": "display_data"
    },
    {
     "data": {
      "text/html": [
       "<div style='font-size: 32px; color: white; -webkit-text-stroke: 1px black;'>Weight = 5.0</div>"
      ],
      "text/plain": [
       "<IPython.core.display.HTML object>"
      ]
     },
     "metadata": {},
     "output_type": "display_data"
    },
    {
     "data": {
      "text/html": [
       "<table border=\"1\" class=\"dataframe\">\n",
       "  <thead>\n",
       "    <tr style=\"text-align: right;\">\n",
       "      <th></th>\n",
       "      <th></th>\n",
       "      <th></th>\n",
       "      <th></th>\n",
       "    </tr>\n",
       "  </thead>\n",
       "  <tbody>\n",
       "    <tr>\n",
       "      <th>0</th>\n",
       "      <td>Warhammer: The Game of Fantasy Battles (7th Edition)<br><img src='https://cf.geekdo-images.com/nz6JN8D8ulBwYYuX_PuUgA__original/img/j0dkT9UaLLvhZFuOhey6RsMEMcY=/0x0/filters:format(jpeg)/pic145113.jpg' height='100px'></td>\n",
       "      <td>Deluxe Advanced Squad Leader<br><img src='https://cf.geekdo-images.com/S7bEUV7j_qJmzzSl1YG9Gg__original/img/UMh4JS-mE28LB_-eD7BiYmU75K0=/0x0/filters:format(jpeg)/pic5178026.jpg' height='100px'></td>\n",
       "      <td>Bells of War: Conquest Series<br><img src='https://cf.geekdo-images.com/PlpRrlhuw5BJCPfX-MqZmA__original/img/WqJfFjtDPZ5sq0I4ArXGXkg0PiI=/0x0/filters:format(jpeg)/pic1143624.jpg' height='100px'></td>\n",
       "    </tr>\n",
       "  </tbody>\n",
       "</table>"
      ],
      "text/plain": [
       "<IPython.core.display.HTML object>"
      ]
     },
     "metadata": {},
     "output_type": "display_data"
    }
   ],
   "source": [
    "from bs4 import BeautifulSoup\n",
    "import requests\n",
    "import pandas as pd\n",
    "import requests\n",
    "import xml.etree.ElementTree as ET\n",
    "import pandas as pd\n",
    "from IPython.display import display, HTML, Image\n",
    "\n",
    "results_df = pd.DataFrame(columns=[\"Game Title\",\"Weight\", \"Image URL\"])\n",
    "Main()\n",
    "display_df =  results_df[[\"Game Title\"]]\n",
    "grouped = results_df.groupby(\"Weight\")\n",
    "organized_df = pd.DataFrame(columns=[\"Weight\", \"Title and Image\"])\n",
    "\n",
    "for weight, group in grouped:\n",
    "    weight_heading = pd.DataFrame({\"Weight\": f\"Weight {weight}\", \"Title and Image\": \"\"}, index=[0])    \n",
    "    game_row = pd.DataFrame(columns=[\"GRW\", \"GRTI\"])\n",
    "    \n",
    "    for index, row in group.iterrows():\n",
    "        game_data = pd.DataFrame({\"GRTI\": row[\"Game Title\"] + \"<br><img src='\" + row[\"Image URL\"] + \"' height='100px'>\"}, index=[0])\n",
    "        game_row = pd.concat([game_row, game_data], axis=1)\n",
    "    \n",
    "    styled_weight = f\"<div style='font-size: 32px; color: white; -webkit-text-stroke: 1px black;'>Weight = {weight}</div>\"\n",
    "    display(HTML(styled_weight))\n",
    "    game_row = game_row.iloc[:, 2:]\n",
    "    game_row.columns = [\"\" for _ in range(len(game_row.columns))]\n",
    "    display(HTML(game_row.to_html(escape=False)))\n",
    "\n",
    "\n",
    "\n"
   ]
  }
 ],
 "metadata": {
  "kernelspec": {
   "display_name": "Python 3",
   "language": "python",
   "name": "python3"
  },
  "language_info": {
   "codemirror_mode": {
    "name": "ipython",
    "version": 3
   },
   "file_extension": ".py",
   "mimetype": "text/x-python",
   "name": "python",
   "nbconvert_exporter": "python",
   "pygments_lexer": "ipython3",
   "version": "3.11.6"
  }
 },
 "nbformat": 4,
 "nbformat_minor": 5
}
