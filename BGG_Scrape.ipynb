{
 "cells": [
  {
   "cell_type": "code",
   "execution_count": 1,
   "id": "46a42d50-8ee8-4df4-b679-7b4ad3023585",
   "metadata": {},
   "outputs": [],
   "source": [
    "def getTitle(soup,Rank=1):\n",
    "            \n",
    "    titleDiv = soup.find(id = 'results_objectname'+str(Rank))\n",
    "    # titleDiv = soup.findAll(id = 'results_objectname1')\n",
    "    # print(titleDiv)\n",
    "    titleText = titleDiv.find('a').text\n",
    "    return titleText\n",
    "    \n",
    "    \n"
   ]
  },
  {
   "cell_type": "code",
   "execution_count": 2,
   "id": "dd182393-1ab0-4c7d-a7c2-fa3136903f8b",
   "metadata": {
    "tags": []
   },
   "outputs": [],
   "source": [
    "def getImageURL(soup,rank=1):\n",
    "    # https://boardgamegeek.com/xmlapi2/thing?id=318243\n",
    "#     image\n",
    "#     response = requests.get('https://boardgamegeek.com/xmlapi2/thing?id=318243')\n",
    "#     # Parse the XML data\n",
    "#     root = ET.fromstring(response)\n",
    "\n",
    "#     # Extract the URL of the image\n",
    "#     image_url = root.find('.//image').text\n",
    "\n",
    "    BGGID=getBGGID(soup,rank)\n",
    "    # print(BGGID)\n",
    "    request_url = 'https://boardgamegeek.com/xmlapi2/thing?id='+BGGID\n",
    "    # print(request_url)\n",
    "    response = requests.get(request_url)\n",
    "\n",
    "    # Check if the request was successful\n",
    "    if response.status_code == 200:\n",
    "        # Parse the XML data\n",
    "        root = ET.fromstring(response.content)\n",
    "\n",
    "        # Extract the URL of the image\n",
    "        image_url = root.find('.//image').text\n",
    "\n",
    "        # Now, image_url contains the URL of the image\n",
    "        # print(image_url)\n",
    "    else:\n",
    "        print(\"Failed to retrieve data from the API\")\n",
    "    \n",
    "    imgDiv=\"blank\"\n",
    "    imgDiv = soup.find_all(class_ = 'collection_thumbnail')[rank]\n",
    "    return image_url\n",
    "    # print( image_url)\n",
    "    # print(imgDiv)\n",
    "    "
   ]
  },
  {
   "cell_type": "code",
   "execution_count": 3,
   "id": "c9e5607b-47e7-4286-8c1a-2f0e7d40d305",
   "metadata": {},
   "outputs": [],
   "source": [
    "def getBGGID(soup,rank=1):\n",
    "    idDiv = soup.find_all(class_ = 'collection_thumbnail')[rank].find('a')['href']\n",
    "    BGGID = idDiv.split('/')[2]\n",
    "    return BGGID\n",
    "    "
   ]
  },
  {
   "cell_type": "code",
   "execution_count": 4,
   "id": "dbc4378c-73d2-4cb6-ae9f-d0ee71f42929",
   "metadata": {
    "tags": []
   },
   "outputs": [],
   "source": [
    "def Main(interval=1,numResults=1):\n",
    "    global results_df \n",
    "\n",
    "    interval = float(input(\"Enter the interval (between 0 and 1): \"))\n",
    "    if interval <= 0 or interval > 1:\n",
    "        interval = float(input(\"Enter the interval (between 0 and 1): \"))\n",
    "    # You can choose to exit the program or handle it in your preferred way.\n",
    "\n",
    "# Prompt for the number of results\n",
    "    numResults = int(input(\"Enter the number of results(max 10): \"))\n",
    "    if numResults >10:\n",
    "        numResults = int(input(\"Enter the number of results(max 10): \"))\n",
    "    # if interval >1 or interval <= 0:        \n",
    "    #     return 'Please enter an interval between 0 and 1'\n",
    "    \n",
    "    weight=1.0\n",
    "    \n",
    "    while weight <=5:\n",
    "        print(\"finding games for weight \"+str(weight)+\" ...\")\n",
    "        soup=getSoup(weight)\n",
    "        for i in range(numResults):\n",
    "            title = getTitle(soup,i+1)\n",
    "            image_url=getImageURL(soup,i+1)\n",
    "            # print(image_url)\n",
    "            results_df = pd.concat([results_df, pd.DataFrame({\"Game Title\": [title],\"Weight\":[weight], \"Image URL\": [image_url]})], ignore_index=True)\n",
    "        weight +=interval\n",
    "             \n",
    "\n",
    "# Create an empty DataFrame to store the results\n",
    "\n",
    "\n",
    "# def Main(interval=1, numResults=1):\n",
    "#     results_df = pd.DataFrame(columns=[\"Game Title\", \"Image URL\"])\n",
    "#     if interval > 1 or interval <= 0:\n",
    "#         return 'Please enter an interval between 0 and 1'\n",
    "\n",
    "#     weight = 1\n",
    "\n",
    "#     while weight <= 5:\n",
    "#         print(weight)\n",
    "#         soup = getSoup(weight)\n",
    "#         for i in range(numResults):\n",
    "#             title = getTitle(soup, i + 1)\n",
    "#             image_url = getImageURL(soup, i + 1)\n",
    "#             results_df = pd.concat([results_df, pd.DataFrame({\"Game Title\": [title], \"Image URL\": [image_url]})], ignore_index=True)\n",
    "#         weight += interval\n",
    "\n",
    "\n",
    "\n",
    "#     # Display the DataFrame\n",
    "#     print(results_df)\n"
   ]
  },
  {
   "cell_type": "code",
   "execution_count": 5,
   "id": "c5b25e17-bfd5-43d3-bc35-11829e36e2f5",
   "metadata": {},
   "outputs": [],
   "source": [
    "def getURL(weight):\n",
    "    weightString = str(weight)\n",
    "    url = 'https://boardgamegeek.com/search/boardgame?sort=bggrating&sortdir=desc&advsearch=1&floatrange%5Bavgweight%5D%5Bmin%5D='+weightString+'&nosubtypes%5B%5D=boardgameexpansion&floatrange%5Bavgweight%5D%5Bmax%5D='+weightString+'&colfiltertype=&playerrangetype=normal&B1=Submit'\n",
    "    # print(url)\n",
    "    return url\n",
    "    "
   ]
  },
  {
   "cell_type": "code",
   "execution_count": 6,
   "id": "d2e7dab0-8fd7-4fe2-b0d8-a6d9ee81224b",
   "metadata": {},
   "outputs": [],
   "source": [
    "def getSoup(weight):\n",
    "    url=getURL(weight)\n",
    "    page = requests.get(url)\n",
    "    soup = BeautifulSoup(page.text, 'html')\n",
    "    return soup"
   ]
  },
  {
   "cell_type": "code",
   "execution_count": 7,
   "id": "a6c02fd2-c69e-42f0-ac3e-41f81e57722f",
   "metadata": {},
   "outputs": [
    {
     "name": "stdout",
     "output_type": "stream",
     "text": [
      "finding games for weight 1.0 ...\n"
     ]
    },
    {
     "name": "stderr",
     "output_type": "stream",
     "text": [
      "C:\\Users\\lock4\\AppData\\Local\\Temp\\ipykernel_22024\\38862346.py:25: FutureWarning: The behavior of DataFrame concatenation with empty or all-NA entries is deprecated. In a future version, this will no longer exclude empty or all-NA columns when determining the result dtypes. To retain the old behavior, exclude the relevant entries before the concat operation.\n",
      "  results_df = pd.concat([results_df, pd.DataFrame({\"Game Title\": [title],\"Weight\":[weight], \"Image URL\": [image_url]})], ignore_index=True)\n"
     ]
    },
    {
     "name": "stdout",
     "output_type": "stream",
     "text": [
      "finding games for weight 2.0 ...\n",
      "finding games for weight 3.0 ...\n",
      "finding games for weight 4.0 ...\n",
      "finding games for weight 5.0 ...\n"
     ]
    },
    {
     "data": {
      "text/html": [
       "<div style='font-size: 32px; color: white; -webkit-text-stroke: 1px black;'>Weight = 1.0</div>"
      ],
      "text/plain": [
       "<IPython.core.display.HTML object>"
      ]
     },
     "metadata": {},
     "output_type": "display_data"
    },
    {
     "data": {
      "text/html": [
       "<table border=\"1\" class=\"dataframe\">\n",
       "  <thead>\n",
       "    <tr style=\"text-align: right;\">\n",
       "      <th></th>\n",
       "      <th></th>\n",
       "      <th></th>\n",
       "    </tr>\n",
       "  </thead>\n",
       "  <tbody>\n",
       "    <tr>\n",
       "      <th>0</th>\n",
       "      <td>HITSTER<br><img src='https://cf.geekdo-images.com/R4aQbIo0KZ6npxfhUc7ZYw__original/img/UnRcbzoTOs0enH35NSxGb4mqQ-k=/0x0/filters:format(png)/pic6958739.png' height='100px'></td>\n",
       "      <td>Telestrations After Dark<br><img src='https://cf.geekdo-images.com/lxSrSu2-x2PcDwi78SACjA__original/img/eCKJZh3dTN8MdEYAN6hy_LMyxR0=/0x0/filters:format(jpeg)/pic2564213.jpg' height='100px'></td>\n",
       "    </tr>\n",
       "  </tbody>\n",
       "</table>"
      ],
      "text/plain": [
       "<IPython.core.display.HTML object>"
      ]
     },
     "metadata": {},
     "output_type": "display_data"
    },
    {
     "data": {
      "text/html": [
       "<div style='font-size: 32px; color: white; -webkit-text-stroke: 1px black;'>Weight = 2.0</div>"
      ],
      "text/plain": [
       "<IPython.core.display.HTML object>"
      ]
     },
     "metadata": {},
     "output_type": "display_data"
    },
    {
     "data": {
      "text/html": [
       "<table border=\"1\" class=\"dataframe\">\n",
       "  <thead>\n",
       "    <tr style=\"text-align: right;\">\n",
       "      <th></th>\n",
       "      <th></th>\n",
       "      <th></th>\n",
       "    </tr>\n",
       "  </thead>\n",
       "  <tbody>\n",
       "    <tr>\n",
       "      <th>0</th>\n",
       "      <td>Azul: Stained Glass of Sintra<br><img src='https://cf.geekdo-images.com/RrYR1xB8H7D1B5GwNV8jgQ__original/img/unI8OEWp9Fdv3D_dLahPPdLG1qc=/0x0/filters:format(jpeg)/pic4212417.jpg' height='100px'></td>\n",
       "      <td>Marvel United: X-Men<br><img src='https://cf.geekdo-images.com/McQXSQjyTtrqpGA77GSRxg__original/img/Z6Bl-Nc4XfMk3Su5-Qa3C3fBbFw=/0x0/filters:format(jpeg)/pic6245965.jpg' height='100px'></td>\n",
       "    </tr>\n",
       "  </tbody>\n",
       "</table>"
      ],
      "text/plain": [
       "<IPython.core.display.HTML object>"
      ]
     },
     "metadata": {},
     "output_type": "display_data"
    },
    {
     "data": {
      "text/html": [
       "<div style='font-size: 32px; color: white; -webkit-text-stroke: 1px black;'>Weight = 3.0</div>"
      ],
      "text/plain": [
       "<IPython.core.display.HTML object>"
      ]
     },
     "metadata": {},
     "output_type": "display_data"
    },
    {
     "data": {
      "text/html": [
       "<table border=\"1\" class=\"dataframe\">\n",
       "  <thead>\n",
       "    <tr style=\"text-align: right;\">\n",
       "      <th></th>\n",
       "      <th></th>\n",
       "      <th></th>\n",
       "    </tr>\n",
       "  </thead>\n",
       "  <tbody>\n",
       "    <tr>\n",
       "      <th>0</th>\n",
       "      <td>Everdell: The Complete Collection<br><img src='https://cf.geekdo-images.com/AkYQwEPr0fq_summgnx4wA__original/img/7KI0eciK8zImSiBn1N_9MF4Ws_o=/0x0/filters:format(png)/pic6010050.png' height='100px'></td>\n",
       "      <td>Whistle Mountain<br><img src='https://cf.geekdo-images.com/BkPVVNEJxnF2ouque0ov8A__original/img/KBbDQ_YZG_JF_rkniAKYupJLYnI=/0x0/filters:format(jpeg)/pic5275651.jpg' height='100px'></td>\n",
       "    </tr>\n",
       "  </tbody>\n",
       "</table>"
      ],
      "text/plain": [
       "<IPython.core.display.HTML object>"
      ]
     },
     "metadata": {},
     "output_type": "display_data"
    },
    {
     "data": {
      "text/html": [
       "<div style='font-size: 32px; color: white; -webkit-text-stroke: 1px black;'>Weight = 4.0</div>"
      ],
      "text/plain": [
       "<IPython.core.display.HTML object>"
      ]
     },
     "metadata": {},
     "output_type": "display_data"
    },
    {
     "data": {
      "text/html": [
       "<table border=\"1\" class=\"dataframe\">\n",
       "  <thead>\n",
       "    <tr style=\"text-align: right;\">\n",
       "      <th></th>\n",
       "      <th></th>\n",
       "      <th></th>\n",
       "    </tr>\n",
       "  </thead>\n",
       "  <tbody>\n",
       "    <tr>\n",
       "      <th>0</th>\n",
       "      <td>Clinic: Deluxe Edition<br><img src='https://cf.geekdo-images.com/iSPW4FWKZPiscVBbVgzJ0Q__original/img/Mlf3zgxNSckq276250BUObext8M=/0x0/filters:format(jpeg)/pic6625134.jpg' height='100px'></td>\n",
       "      <td>Great Western Trail: New Zealand<br><img src='https://cf.geekdo-images.com/X4KaD6ADLW1ohOznNay7xg__original/img/HhxsLMIsz6Te567qXEbRBen4Sm8=/0x0/filters:format(png)/pic7350809.png' height='100px'></td>\n",
       "    </tr>\n",
       "  </tbody>\n",
       "</table>"
      ],
      "text/plain": [
       "<IPython.core.display.HTML object>"
      ]
     },
     "metadata": {},
     "output_type": "display_data"
    },
    {
     "data": {
      "text/html": [
       "<div style='font-size: 32px; color: white; -webkit-text-stroke: 1px black;'>Weight = 5.0</div>"
      ],
      "text/plain": [
       "<IPython.core.display.HTML object>"
      ]
     },
     "metadata": {},
     "output_type": "display_data"
    },
    {
     "data": {
      "text/html": [
       "<table border=\"1\" class=\"dataframe\">\n",
       "  <thead>\n",
       "    <tr style=\"text-align: right;\">\n",
       "      <th></th>\n",
       "      <th></th>\n",
       "      <th></th>\n",
       "    </tr>\n",
       "  </thead>\n",
       "  <tbody>\n",
       "    <tr>\n",
       "      <th>0</th>\n",
       "      <td>Warhammer: The Game of Fantasy Battles (7th Edition)<br><img src='https://cf.geekdo-images.com/nz6JN8D8ulBwYYuX_PuUgA__original/img/j0dkT9UaLLvhZFuOhey6RsMEMcY=/0x0/filters:format(jpeg)/pic145113.jpg' height='100px'></td>\n",
       "      <td>Deluxe Advanced Squad Leader<br><img src='https://cf.geekdo-images.com/S7bEUV7j_qJmzzSl1YG9Gg__original/img/UMh4JS-mE28LB_-eD7BiYmU75K0=/0x0/filters:format(jpeg)/pic5178026.jpg' height='100px'></td>\n",
       "    </tr>\n",
       "  </tbody>\n",
       "</table>"
      ],
      "text/plain": [
       "<IPython.core.display.HTML object>"
      ]
     },
     "metadata": {},
     "output_type": "display_data"
    }
   ],
   "source": [
    "from bs4 import BeautifulSoup\n",
    "import requests\n",
    "import pandas as pd\n",
    "import requests\n",
    "import xml.etree.ElementTree as ET\n",
    "import pandas as pd\n",
    "from IPython.display import display, HTML, Image\n",
    "\n",
    "results_df = pd.DataFrame(columns=[\"Game Title\",\"Weight\", \"Image URL\"])\n",
    "Main()\n",
    "\n",
    "display_df =  results_df[[\"Game Title\"]]\n",
    "\n",
    "\n",
    "grouped = results_df.groupby(\"Weight\")\n",
    "# print(grouped)\n",
    "# Create an empty DataFrame to store the organized results\n",
    "organized_df = pd.DataFrame(columns=[\"Weight\", \"Title and Image\"])\n",
    "\n",
    "# Iterate through each group (weight)\n",
    "for weight, group in grouped:\n",
    "    # Create a heading row for the weight\n",
    "    weight_heading = pd.DataFrame({\"Weight\": f\"Weight {weight}\", \"Title and Image\": \"\"}, index=[0])\n",
    "    \n",
    "    # Create a row to store the titles and images for each game in the group\n",
    "    game_row = pd.DataFrame(columns=[\"GRW\", \"GRTI\"])\n",
    "    \n",
    "    # Iterate through each game in the group and add its title and image\n",
    "    for index, row in group.iterrows():\n",
    "        game_data = pd.DataFrame({\"GRTI\": row[\"Game Title\"] + \"<br><img src='\" + row[\"Image URL\"] + \"' height='100px'>\"}, index=[0])\n",
    "        game_row = pd.concat([game_row, game_data], axis=1)\n",
    "    # Concatenate the game row to the organized DataFrame to display games side by side\n",
    "    # organized_df = pd.concat([organized_df.reset_index(drop=True), game_row.reset_index(drop=True)], axis=1)\n",
    "    styled_weight = f\"<div style='font-size: 32px; color: white; -webkit-text-stroke: 1px black;'>Weight = {weight}</div>\"\n",
    "    display(HTML(styled_weight))\n",
    "    game_row = game_row.iloc[:, 2:]\n",
    "    game_row.columns = [\"\" for _ in range(len(game_row.columns))]\n",
    "    display(HTML(game_row.to_html(escape=False)))\n",
    "\n",
    "\n",
    "\n"
   ]
  }
 ],
 "metadata": {
  "kernelspec": {
   "display_name": "Python 3",
   "language": "python",
   "name": "python3"
  },
  "language_info": {
   "codemirror_mode": {
    "name": "ipython",
    "version": 3
   },
   "file_extension": ".py",
   "mimetype": "text/x-python",
   "name": "python",
   "nbconvert_exporter": "python",
   "pygments_lexer": "ipython3",
   "version": "3.11.6"
  }
 },
 "nbformat": 4,
 "nbformat_minor": 5
}
